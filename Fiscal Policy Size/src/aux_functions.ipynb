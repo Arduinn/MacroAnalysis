{
 "cells": [
  {
   "cell_type": "code",
   "execution_count": 7,
   "metadata": {},
   "outputs": [],
   "source": [
    "import pandas as pd\n",
    "import os"
   ]
  },
  {
   "cell_type": "code",
   "execution_count": 8,
   "metadata": {},
   "outputs": [
    {
     "name": "stdout",
     "output_type": "stream",
     "text": [
      "                             Category   Now  Average  Delta\n",
      "0              Real Central Bank Rate   7.4      3.8    3.6\n",
      "1    Central Bank differential vs Fed   7.7      8.5   -0.8\n",
      "2        Inflation differential vs US   2.2      3.4   -1.2\n",
      "3  Real Central Rate vs Real Fed Rate   5.5      5.1    0.4\n",
      "4         2yr Rate differential vs US  11.3      8.7    2.5\n",
      "5        10yr Rate differential vs US  10.4      9.0    1.4\n"
     ]
    }
   ],
   "source": [
    "# Table Data\n",
    "\n",
    "# Data from the image\n",
    "data = {\n",
    "    \"Category\": [\n",
    "        \"Real Central Bank Rate\",\n",
    "        \"Central Bank differential vs Fed\",\n",
    "        \"Inflation differential vs US\",\n",
    "        \"Real Central Rate vs Real Fed Rate\",\n",
    "        \"2yr Rate differential vs US\",\n",
    "        \"10yr Rate differential vs US\"\n",
    "    ],\n",
    "    \"Now\": [7.4, 7.7, 2.2, 5.5, 11.3, 10.4],\n",
    "    \"Average\": [3.8, 8.5, 3.4, 5.1, 8.7, 9.0],\n",
    "    \"Delta\": [3.6, -0.8, -1.2, 0.4, 2.5, 1.4]\n",
    "}\n",
    "\n",
    "# Creating the DataFrame\n",
    "df = pd.DataFrame(data)\n",
    "\n",
    "# Display the table\n",
    "print(df)\n",
    "\n",
    "export_path = \"../data/processed/\"\n",
    "file_name = \"monetary_policy.csv\"\n",
    "\n",
    "df.to_csv(os.path.join(export_path, file_name), index=False)"
   ]
  },
  {
   "cell_type": "code",
   "execution_count": 20,
   "metadata": {},
   "outputs": [
    {
     "data": {
      "text/plain": [
       "1.0655999999999999"
      ]
     },
     "execution_count": 20,
     "metadata": {},
     "output_type": "execute_result"
    }
   ],
   "source": [
    "delta_dados = pd.read_csv(\"../data/processed/monetary_policy.csv\")\n",
    "(delta_dados.iloc[[0,1,3],3].sum())*0.333"
   ]
  }
 ],
 "metadata": {
  "kernelspec": {
   "display_name": "datascience",
   "language": "python",
   "name": "python3"
  },
  "language_info": {
   "codemirror_mode": {
    "name": "ipython",
    "version": 3
   },
   "file_extension": ".py",
   "mimetype": "text/x-python",
   "name": "python",
   "nbconvert_exporter": "python",
   "pygments_lexer": "ipython3",
   "version": "3.10.13"
  }
 },
 "nbformat": 4,
 "nbformat_minor": 2
}
